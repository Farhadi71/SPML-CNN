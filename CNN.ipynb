{
  "cells": [
    {
      "cell_type": "markdown",
      "metadata": {
        "id": "-525FPByOpT4"
      },
      "source": [
        "**Full Name:** \n",
        "\n",
        "**Student Number:** \n"
      ]
    },
    {
      "cell_type": "markdown",
      "metadata": {
        "id": "4qkyk-_JOrTG"
      },
      "source": [
        "# Convolutional Neural Networks\n",
        "I this notebook, you'll get familiar with the implementation of CNNs by building and training two CNN networks."
      ]
    },
    {
      "cell_type": "markdown",
      "metadata": {
        "id": "MZawYqUx3I7m"
      },
      "source": [
        "## Preparing the Data\n",
        "For this taks, you're going to use the [CIFAR10](https://www.cs.toronto.edu/~kriz/cifar.html) dataset. CIFAR10 is a collection of 32 * 32 images in 10 classes. Each image in CIFAR10 has three channels (RGB). You are going to download and prepare the dataset manually."
      ]
    },
    {
      "cell_type": "code",
      "execution_count": 27,
      "metadata": {
        "execution": {
          "iopub.execute_input": "2023-03-13T20:53:44.090861Z",
          "iopub.status.busy": "2023-03-13T20:53:44.090366Z",
          "iopub.status.idle": "2023-03-13T20:53:44.102376Z",
          "shell.execute_reply": "2023-03-13T20:53:44.100966Z",
          "shell.execute_reply.started": "2023-03-13T20:53:44.090812Z"
        },
        "id": "lo8lG_V4i-yV",
        "trusted": true
      },
      "outputs": [],
      "source": [
        "%matplotlib inline\n",
        "from matplotlib import pyplot as plt\n",
        "import os\n",
        "import pandas as pd\n",
        "\n",
        "import torch\n",
        "import torch.nn as nn\n",
        "import torch.nn.functional as F\n",
        "import torch.optim as optim\n",
        "from torch.utils.data import Dataset\n",
        "from torchvision.datasets.utils import download_url\n",
        "from sklearn.model_selection import train_test_split\n",
        "from torchvision.io import read_image"
      ]
    },
    {
      "cell_type": "markdown",
      "metadata": {
        "id": "42wqHZdT33jg"
      },
      "source": [
        "**For this question, it's highly recommended to use a CUDA-enabled environment.**\n",
        "We'll check for the availability of GPU and set `device` accordingly."
      ]
    },
    {
      "cell_type": "code",
      "execution_count": 28,
      "metadata": {
        "execution": {
          "iopub.execute_input": "2023-03-13T20:54:09.459484Z",
          "iopub.status.busy": "2023-03-13T20:54:09.459049Z",
          "iopub.status.idle": "2023-03-13T20:54:09.464715Z",
          "shell.execute_reply": "2023-03-13T20:54:09.463558Z",
          "shell.execute_reply.started": "2023-03-13T20:54:09.459444Z"
        },
        "id": "Io2RwgeYi-y8",
        "trusted": true
      },
      "outputs": [],
      "source": [
        "device = (torch.device('cuda') if torch.cuda.is_available() else torch.device('cpu'))"
      ]
    },
    {
      "cell_type": "code",
      "execution_count": 29,
      "metadata": {
        "colab": {
          "base_uri": "https://localhost:8080/"
        },
        "execution": {
          "iopub.execute_input": "2023-03-13T20:53:44.105270Z",
          "iopub.status.busy": "2023-03-13T20:53:44.104124Z",
          "iopub.status.idle": "2023-03-13T20:53:53.314881Z",
          "shell.execute_reply": "2023-03-13T20:53:53.313319Z",
          "shell.execute_reply.started": "2023-03-13T20:53:44.105224Z"
        },
        "id": "_Dyxo3A1HPaK",
        "outputId": "58cb8185-0660-4419-9998-e7cfbb343381",
        "trusted": true
      },
      "outputs": [
        {
          "output_type": "stream",
          "name": "stdout",
          "text": [
            "Using downloaded and verified file: ./cifar10.zip\n",
            "replace cifar10/test/airplane_0001.png? [y]es, [n]o, [A]ll, [N]one, [r]ename: A\n"
          ]
        }
      ],
      "source": [
        "url = \"http://dl.dropboxusercontent.com/s/dywydpafhaamquw/cifar10.zip\"\n",
        "# Download the dataset using Torchvision's  `download_url`\n",
        "#############################\n",
        "# Your code goes here (1 point)\n",
        "root = './'\n",
        "download_url(url, root)\n",
        "#############################\n",
        "!unzip -qq \"./cifar10.zip\""
      ]
    },
    {
      "cell_type": "markdown",
      "metadata": {
        "id": "kzjK9ndjNYkM"
      },
      "source": [
        "Now you are going to implement a custom dataset class for the data you've downloaded. You can implement a custom dataset by inheriting from PyTorch's `Dataset` class. You'll then have to override `__init__`, `__len__`, and `__getitem__` functinos in your custom class. One of the advantages of defining a custom dataset like this is that you have complete control over the data that the dataset returns.\n",
        "\n",
        "The the dataset you've downloaded has the following structure:\n",
        "```\n",
        "cifar10/\n",
        "    test/\n",
        "        img_file1.png\n",
        "        img_file2.png\n",
        "        ..\n",
        "        ..\n",
        "        annotation.csv\n",
        "    train/\n",
        "        img_file1.png\n",
        "        img_file2.png\n",
        "        ...\n",
        "        ...\n",
        "        annotation.csv\n",
        "```"
      ]
    },
    {
      "cell_type": "markdown",
      "metadata": {
        "id": "4zC5AWofNYkQ"
      },
      "source": [
        "The `annotation.csv` file in each directory contains a complete list of file names and labels for all the image files in that directory. **Keep in mind that the csv files provided have no header information**."
      ]
    },
    {
      "cell_type": "code",
      "execution_count": 30,
      "metadata": {
        "execution": {
          "iopub.execute_input": "2023-03-13T20:53:53.317984Z",
          "iopub.status.busy": "2023-03-13T20:53:53.317503Z",
          "iopub.status.idle": "2023-03-13T20:53:53.329104Z",
          "shell.execute_reply": "2023-03-13T20:53:53.327702Z",
          "shell.execute_reply.started": "2023-03-13T20:53:53.317935Z"
        },
        "id": "gL1RC3afS_Fd",
        "trusted": true
      },
      "outputs": [],
      "source": [
        "class CustomCifarDataset():\n",
        "    def __init__(self, annotations_file, root_dir, transform=None):\n",
        "        \"\"\"\n",
        "        `annotation_file`: Path to the csv file with annotations.\n",
        "        `root_dir`: Directory with all the images.\n",
        "        `transform`: Transform to be applied.\n",
        "        \"\"\"\n",
        "        self.root_dir = root_dir\n",
        "        self.transform = transform\n",
        "        # Read the csv annotation file using pandas' `read_csv` function.\n",
        "        # (The annotation file consists of n rows. Each row is in the format \n",
        "        #    img_file_name, img_label\n",
        "        #  For example:\n",
        "        #    airplane_1001, 0\n",
        "        # )\n",
        "        #############################\n",
        "        # Your code goes here (2 points)\n",
        "        self.df = pd.read_csv(annotations_file, header=None)\n",
        "        #############################\n",
        "\n",
        "    def __len__(self):\n",
        "        # Return the number of data points\n",
        "        #############################\n",
        "        # Your code goes here (1 point)\n",
        "        #dfLength = self.df.count() --> pandas function\n",
        "        dfLength = len(self.df)\n",
        "        return dfLength\n",
        "        #############################\n",
        "\n",
        "    def __getitem__(self, idx):\n",
        "        \"\"\"\n",
        "        idx: index of the data point referenced.\n",
        "        \"\"\"\n",
        "        # Use `idx` to index the annotation file you parsed in `__init__`.\n",
        "        # Using `read_image`, load the corresponding image from the disk.\n",
        "        # Normalize the data to be between 0 and 1.\n",
        "        # Apply transformation(s) to the image and return the transformed \n",
        "        # image and its label.\n",
        "        #############################\n",
        "        # Your code goes here (7 points)\n",
        "        if torch.is_tensor(idx):\n",
        "          idx = idx.tolist()\n",
        "\n",
        "        imageLabel = self.df.iloc[idx, 1]\n",
        "        imagePath = os.path.join(self.root_dir, self.df.iloc[idx, 0])\n",
        "        readImage = read_image(imagePath)\n",
        "        tensorMax = readImage.max()\n",
        "        tensorMin = readImage.min()\n",
        "        dataNormalized = (readImage - tensorMin)/(tensorMax - tensorMin)\n",
        "        imageTransform = {'Image': dataNormalized, 'Label': imageLabel}\n",
        "        if self.transform:\n",
        "            imageTransform = self.transform(imageTransform)\n",
        "\n",
        "        return imageTransform\n",
        "\n",
        "        #############################"
      ]
    },
    {
      "cell_type": "code",
      "execution_count": 31,
      "metadata": {
        "execution": {
          "iopub.execute_input": "2023-03-13T20:53:53.335006Z",
          "iopub.status.busy": "2023-03-13T20:53:53.334253Z",
          "iopub.status.idle": "2023-03-13T20:53:53.384866Z",
          "shell.execute_reply": "2023-03-13T20:53:53.383719Z",
          "shell.execute_reply.started": "2023-03-13T20:53:53.334962Z"
        },
        "id": "Bt4qdQB98GVd",
        "trusted": true
      },
      "outputs": [],
      "source": [
        "test_set = CustomCifarDataset(\"./cifar10/test/annotation.csv\", \"./cifar10/test/\")\n",
        "train_set = CustomCifarDataset(\"./cifar10/train/annotation.csv\", \"./cifar10/train/\")"
      ]
    },
    {
      "cell_type": "code",
      "execution_count": 32,
      "metadata": {
        "execution": {
          "iopub.execute_input": "2023-03-13T20:53:53.386642Z",
          "iopub.status.busy": "2023-03-13T20:53:53.386258Z",
          "iopub.status.idle": "2023-03-13T20:54:09.340805Z",
          "shell.execute_reply": "2023-03-13T20:54:09.339453Z",
          "shell.execute_reply.started": "2023-03-13T20:53:53.386604Z"
        },
        "id": "cbInqO5PTaqM",
        "trusted": true,
        "colab": {
          "base_uri": "https://localhost:8080/"
        },
        "outputId": "73c555f0-eb45-49e2-d839-40927533c543"
      },
      "outputs": [
        {
          "output_type": "execute_result",
          "data": {
            "text/plain": [
              "(40000, 10000, 10000)"
            ]
          },
          "metadata": {},
          "execution_count": 32
        }
      ],
      "source": [
        "# Split your training set into train and validation sets (8:2 ratio).\n",
        "#############################\n",
        "# Your code goes here (2 points)\n",
        "train_set , val_set = train_test_split(train_set, test_size=0.2)\n",
        "#############################\n",
        "\n",
        "len(train_set), len(val_set), len(test_set)"
      ]
    },
    {
      "cell_type": "code",
      "execution_count": 33,
      "metadata": {
        "execution": {
          "iopub.execute_input": "2023-03-13T20:54:09.342948Z",
          "iopub.status.busy": "2023-03-13T20:54:09.342433Z",
          "iopub.status.idle": "2023-03-13T20:54:09.456604Z",
          "shell.execute_reply": "2023-03-13T20:54:09.455558Z",
          "shell.execute_reply.started": "2023-03-13T20:54:09.342888Z"
        },
        "id": "dkj90dMDRt1v",
        "trusted": true
      },
      "outputs": [],
      "source": [
        "# Construct three `DataLoader`s for validation, training, and test sets.\n",
        "# Use a batch size of 128.\n",
        "# No shuffling.\n",
        "#############################\n",
        "# Your code goes here (5 points)\n",
        "from torch.utils.data import DataLoader\n",
        "\n",
        "train_loader = DataLoader(train_set, batch_size = 128, shuffle=False)\n",
        "test_loader = DataLoader(test_set, batch_size = 128, shuffle=False)\n",
        "val_loader = DataLoader(val_set, batch_size = 128, shuffle=False)\n",
        "\n",
        "#############################"
      ]
    },
    {
      "cell_type": "code",
      "execution_count": 34,
      "metadata": {
        "execution": {
          "iopub.execute_input": "2023-03-13T20:54:09.467127Z",
          "iopub.status.busy": "2023-03-13T20:54:09.466429Z",
          "iopub.status.idle": "2023-03-13T20:54:09.477625Z",
          "shell.execute_reply": "2023-03-13T20:54:09.476435Z",
          "shell.execute_reply.started": "2023-03-13T20:54:09.467089Z"
        },
        "id": "yeY62zCpi-zC",
        "trusted": true
      },
      "outputs": [],
      "source": [
        "def train(n_epochs, optimizer, model, loss_fn, train_loader, val_loader):\n",
        "    model.train()\n",
        "    for epoch in range(1, n_epochs + 1):\n",
        "        loss_train = 0.0\n",
        "        for train_loaders in train_loader:\n",
        "            # Compute model's ouptut\n",
        "            # Move your data to GPU if it's available\n",
        "            ##############################\n",
        "            # Your code goes here (5 points)\n",
        "            xTrain = train_loaders['Image'].to(device)\n",
        "            yTrain = train_loaders['Label'].to(device)\n",
        "\n",
        "            yHat = model.forward(xTrain)\n",
        "            ##############################\n",
        "\n",
        "            # Compute the loss.\n",
        "            # Also, use L2 regularization to compute the total loss: `loss + lambda * l2`\n",
        "            # Set the lambda to 0.001.\n",
        "            ##############################\n",
        "            # Your code goes here (7 points)\n",
        "            loss = loss_fn(yHat, yTrain)\n",
        "            learningRate = 0.001\n",
        "            normL2 = sum(torch.norm(w) for w in model.parameters())\n",
        "            loss = loss + learningRate * normL2\n",
        "\n",
        "            optimizer.zero_grad()\n",
        "            ##############################\n",
        "\n",
        "            # Do the backprop step.\n",
        "            ##############################\n",
        "            # Your code goes here (2 points)\n",
        "            loss.backward()\n",
        "            optimizer.step()\n",
        "            ##############################\n",
        "            \n",
        "            loss_train += loss.item()\n",
        "\n",
        "        validation_loss = validate(model, val_loader, loss_fn)\n",
        "        print('Epoch {}, Training loss {}, Validation loss {}'.format(epoch, loss_train / len(train_loader), validation_loss))\n"
      ]
    },
    {
      "cell_type": "code",
      "execution_count": 35,
      "metadata": {
        "execution": {
          "iopub.execute_input": "2023-03-13T20:54:09.479766Z",
          "iopub.status.busy": "2023-03-13T20:54:09.479344Z",
          "iopub.status.idle": "2023-03-13T20:54:09.492290Z",
          "shell.execute_reply": "2023-03-13T20:54:09.491219Z",
          "shell.execute_reply.started": "2023-03-13T20:54:09.479730Z"
        },
        "id": "zpA2Y6rBi-y9",
        "trusted": true
      },
      "outputs": [],
      "source": [
        "def validate(model, val_loader, loss_fn):\n",
        "        with torch.no_grad():\n",
        "            val_loss = 0.0\n",
        "            for val_loaders in val_loader:\n",
        "                # Compute the loss\n",
        "                ##############################\n",
        "                # Your code goes here (9 points)\n",
        "                xVal = val_loaders['Image'].to(device)\n",
        "                yVal = val_loaders['Label'].to(device)\n",
        "                \n",
        "                yHat = model.forward(xVal)\n",
        "                loss = loss_fn(yHat, yVal)\n",
        "                learningRate = 0.001\n",
        "                normL2 = sum(torch.norm(w) for w in model.parameters())\n",
        "                loss = loss + learningRate * normL2\n",
        "                ##############################\n",
        "                val_loss += loss.item()\n",
        "\n",
        "        return val_loss / len(val_loader)"
      ]
    },
    {
      "cell_type": "markdown",
      "metadata": {
        "id": "esGAGgLn41Ua"
      },
      "source": [
        "**Answer the following questions (5 points):**\n",
        "- What is `torch.no_grad()` and when is it used?\n",
        "\n",
        "    *Your answer goes here*\n",
        "    \n",
        "    \n",
        "\n",
        "\n",
        "Context-manager that disabled gradient calculation.\n",
        "Disabling gradient calculation is useful for inference, when you are sure\n",
        "that you will not call `Tensor.backward()`. It will reduce memory\n",
        "consumption for computations that would otherwise have `requires_grad=True`.\n",
        "\n",
        "Take look at this example:\n",
        "```\n",
        "x = torch.arange(4., requires_grad=True)\n",
        "print(x)\n",
        "y = x * x\n",
        "z = y + 0.0\n",
        "print(z.requires_grad)\n",
        "\n",
        "dd = z * x\n",
        "dd.sum().backward()\n",
        "print(x.grad)\n",
        "```\n",
        "Output is: $$(3 * x_{t}^3)$$\n",
        "```\n",
        "tensor([0., 1., 2., 3.], requires_grad=True)\n",
        "True\n",
        "tensor([ 0.,  3., 12., 27.])\n",
        "```\n",
        "\n",
        "But with `torch.no_grad()` we have:\n",
        "```\n",
        "x = torch.arange(4., requires_grad=True)\n",
        "print(x)\n",
        "y = x * x\n",
        "with torch.no_grad():\n",
        "  z = y + 0.0\n",
        "print(z.requires_grad)\n",
        "\n",
        "dd = z * x\n",
        "dd.sum().backward()\n",
        "print(x.grad)\n",
        "```\n",
        "And output is: $$( z_{t})$$\n",
        "\n",
        "```\n",
        "tensor([0., 1., 2., 3.], requires_grad=True)\n",
        "False\n",
        "tensor([0., 1., 4., 9.])\n",
        "```\n",
        "In this mode, the result of every computation will have\n",
        "`requires_grad=False`, even when the inputs have `requires_grad=True`.\n",
        "This context manager is thread local; it will not affect computation.\n",
        "\n",
        "To use the functions, you can do the following:\n",
        "```\n",
        ">>> @torch.no_grad()\n",
        "... def doubler(x):\n",
        "...     return x * 2\n",
        ">>> z = doubler(x)\n",
        ">>> z.requires_grad\n",
        "False\n",
        "```\n",
        "\n",
        "\n",
        "\n",
        "- What do the instructions `model.eval()` and `model.train()` do?\n",
        "\n",
        "    *Your answer goes here*\n",
        "`model.train()`sets the modules in the network in training mode and model keeps some layers, like dropout, batch-normalization but when we use `model.eval()`, we tell our model set dropout and batch normalization layers to evaluation mode before running inference."
      ]
    },
    {
      "cell_type": "code",
      "execution_count": 36,
      "metadata": {
        "execution": {
          "iopub.execute_input": "2023-03-13T20:54:09.494239Z",
          "iopub.status.busy": "2023-03-13T20:54:09.493762Z",
          "iopub.status.idle": "2023-03-13T20:54:09.506394Z",
          "shell.execute_reply": "2023-03-13T20:54:09.505405Z",
          "shell.execute_reply.started": "2023-03-13T20:54:09.494201Z"
        },
        "id": "-0E4o7AaZe9E",
        "trusted": true
      },
      "outputs": [],
      "source": [
        "def test(model, test_loader):\n",
        "  model.eval()\n",
        "  correct = 0\n",
        "  total = 0\n",
        "  with torch.no_grad():\n",
        "    for test_loaders in test_loader:\n",
        "      # Compute the predicted class and update \n",
        "      # `total` and `correct` accordingly\n",
        "      ##############################  \n",
        "      # Your code goes here (9 points)\n",
        "      xTest = test_loaders['Image'].to(device)\n",
        "      yTest = test_loaders['Label'].to(device)\n",
        "\n",
        "      yHat = torch.argmax(model.forward(xTest), dim=1)\n",
        "      y = sum(yHat == yTest).item()\n",
        "\n",
        "      correct += y\n",
        "      total += len(xTest)\n",
        "      ##############################\n",
        "\n",
        "    return correct / total"
      ]
    },
    {
      "cell_type": "markdown",
      "metadata": {
        "id": "A1I7nVJg8RYt"
      },
      "source": [
        "## Creating the Model\n",
        "Now you're going to build the CNN model. The overall architecture of the model you are going to implement is depicted in the following picture (All of the max poolings used have a stride of 2*2):\n",
        "\n",
        "![CNN.png](data:image/png;base64,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)"
      ]
    },
    {
      "cell_type": "code",
      "execution_count": 37,
      "metadata": {
        "execution": {
          "iopub.execute_input": "2023-03-13T20:54:09.508849Z",
          "iopub.status.busy": "2023-03-13T20:54:09.508034Z",
          "iopub.status.idle": "2023-03-13T20:54:09.523956Z",
          "shell.execute_reply": "2023-03-13T20:54:09.522850Z",
          "shell.execute_reply.started": "2023-03-13T20:54:09.508807Z"
        },
        "id": "TMdeAm62hM0W",
        "trusted": true
      },
      "outputs": [],
      "source": [
        "class SimpleCNN(nn.Module):\n",
        "    def __init__(self, in_channels, out_dim):\n",
        "        \"\"\"\n",
        "        `in_channels`: Number of channels for input instances\n",
        "        `out_dim`    : The network's output dimensions\n",
        "        \"\"\"\n",
        "        super().__init__()\n",
        "        self.relu = nn.ReLU()            # Apply for all the layers (except the last one)\n",
        "        self.maxpool = nn.MaxPool2d(2,2) # Apply for conv2, conv4, and conv6\n",
        "        \n",
        "        self.bn1 = nn.BatchNorm2d(64) # Apply for conv2\n",
        "        self.bn2 = nn.BatchNorm2d(128) # Apply for conv4\n",
        "        self.bn3 = nn.BatchNorm2d(256) # Apply for conv6\n",
        "        \n",
        "        self.conv1 = self.conv2 = self.conv3 = self.conv4 = self.conv5 = self.conv6 = None\n",
        "        self.fc1 = self.fc2 = self.fc3 = None\n",
        "\n",
        "        \n",
        "        # Create five 2D convolutional layers (conv1 through conv6)\n",
        "        # Set the padding and stride to 1 for all the layers.\n",
        "        # Use 3*3 kernels.\n",
        "        ##############################\n",
        "        # Your code goes here (10 points)\n",
        "        self.conv1 = nn.Conv2d(in_channels=3, out_channels=32, kernel_size=3, padding=1, stride=1)\n",
        "        self.conv2 = nn.Conv2d(in_channels=32, out_channels=64, kernel_size=3, padding=1, stride=1)\n",
        "        self.conv3 = nn.Conv2d(in_channels=64, out_channels=128, kernel_size=3, padding=1, stride=1)\n",
        "        self.conv4 = nn.Conv2d(in_channels=128, out_channels=128, kernel_size=3, padding=1, stride=1)\n",
        "        self.conv5 = nn.Conv2d(in_channels=128, out_channels=256, kernel_size=3, padding=1, stride=1)\n",
        "        self.conv6 = nn.Conv2d(in_channels=256, out_channels=256, kernel_size=3, padding=1, stride=1)\n",
        "\n",
        "        ##############################\n",
        "\n",
        "        self.flatten = nn.Flatten()\n",
        "        \n",
        "        # According to the output dimensions of `conv6` and the `in_features` value for fc2,\n",
        "        # set `in_features` and `out_features` for fc1 to proper values. \n",
        "        ##############################\n",
        "        # your code goes here (5 points)\n",
        "        self.fc1 = nn.Linear(4096, 1024)\n",
        "        #############################\n",
        "        self.fc2 = nn.Linear(1024, 512)\n",
        "        self.fc3 = nn.Linear(512, out_dim)\n",
        "        \n",
        "    def forward(self, x):\n",
        "        # Move x thorugh the network and return the output\n",
        "        # according to the architecture.\n",
        "        ##############################\n",
        "        # Your code goes here (10 points)\n",
        "        x = self.conv1(x)\n",
        "        x = self.relu(x)\n",
        "\n",
        "        x = self.conv2(x)\n",
        "        x = self.relu(x)\n",
        "        x = self.maxpool(x)\n",
        "        x = self.bn1(x)\n",
        "\n",
        "        x = self.conv3(x)\n",
        "        x = self.relu(x)\n",
        "\n",
        "        x = self.conv4(x)\n",
        "        x = self.relu(x)\n",
        "        x = self.maxpool(x)\n",
        "        x = self.bn2(x)\n",
        "\n",
        "        x = self.conv5(x)\n",
        "        x = self.relu(x)\n",
        "\n",
        "        x = self.conv6(x)\n",
        "        x = self.relu(x)\n",
        "        x = self.maxpool(x)\n",
        "        x = self.bn3(x)\n",
        "\n",
        "        x = self.flatten(x)\n",
        "        x = self.fc1(x)\n",
        "        x = self.relu(x)\n",
        "        x = self.fc2(x)\n",
        "        x = self.relu(x)\n",
        "        x = self.fc3(x)\n",
        "        out = x\n",
        "        ##############################\n",
        "        return out"
      ]
    },
    {
      "cell_type": "code",
      "execution_count": 38,
      "metadata": {
        "execution": {
          "iopub.execute_input": "2023-03-13T20:54:09.525915Z",
          "iopub.status.busy": "2023-03-13T20:54:09.525552Z",
          "iopub.status.idle": "2023-03-13T20:54:09.604625Z",
          "shell.execute_reply": "2023-03-13T20:54:09.603362Z",
          "shell.execute_reply.started": "2023-03-13T20:54:09.525880Z"
        },
        "id": "fPToXtbozzlg",
        "trusted": true
      },
      "outputs": [],
      "source": [
        "model = SimpleCNN(3, 10).to(device=device)"
      ]
    },
    {
      "cell_type": "code",
      "execution_count": null,
      "metadata": {
        "execution": {
          "iopub.execute_input": "2023-03-13T20:54:09.609699Z",
          "iopub.status.busy": "2023-03-13T20:54:09.609382Z",
          "iopub.status.idle": "2023-03-13T20:55:46.265802Z",
          "shell.execute_reply": "2023-03-13T20:55:46.264581Z",
          "shell.execute_reply.started": "2023-03-13T20:54:09.609670Z"
        },
        "id": "YA19-IDsi-zF",
        "trusted": true,
        "colab": {
          "base_uri": "https://localhost:8080/"
        },
        "outputId": "60e138da-ac97-4d94-bbd8-58a23a31d5e9"
      },
      "outputs": [
        {
          "output_type": "stream",
          "name": "stdout",
          "text": [
            "Epoch 1, Training loss 1.2818950936436273, Validation loss 0.9700364274314687\n"
          ]
        }
      ],
      "source": [
        "# Use Adam optimizer with a learning rate of 0.001 as the optimizer.\n",
        "# Use CrossEntropy as loss function.\n",
        "##############################\n",
        "# Your code goes here (5 points)\n",
        "optimizer = optim.Adam(model.parameters(), lr = 0.001)\n",
        "loss_fn = torch.nn.CrossEntropyLoss()\n",
        "##############################\n",
        "train(\n",
        "    n_epochs = 10,\n",
        "    optimizer = optimizer,\n",
        "    model = model,\n",
        "    loss_fn = loss_fn,\n",
        "    train_loader = train_loader,\n",
        "    val_loader=val_loader\n",
        ")"
      ]
    },
    {
      "cell_type": "code",
      "execution_count": null,
      "metadata": {
        "execution": {
          "iopub.execute_input": "2023-03-13T20:55:46.268160Z",
          "iopub.status.busy": "2023-03-13T20:55:46.267450Z",
          "iopub.status.idle": "2023-03-13T20:55:49.874258Z",
          "shell.execute_reply": "2023-03-13T20:55:49.873051Z",
          "shell.execute_reply.started": "2023-03-13T20:55:46.268117Z"
        },
        "id": "_yn8dV4QVLD3",
        "trusted": true
      },
      "outputs": [],
      "source": [
        "test(model, test_loader)"
      ]
    },
    {
      "cell_type": "markdown",
      "metadata": {
        "id": "nwHzSeYiCF52"
      },
      "source": [
        "## Visualizing Feature Maps"
      ]
    },
    {
      "cell_type": "markdown",
      "metadata": {
        "id": "P4BM8VvCQXKb"
      },
      "source": [
        "The feature maps, also known as activation maps, record what happens when the filters are applied to an input.\n",
        "\n",
        "\n",
        "In this section, you're going to visualize feature maps for a random input image for layers `conv1` through `conv6`. "
      ]
    },
    {
      "cell_type": "code",
      "execution_count": null,
      "metadata": {
        "execution": {
          "iopub.execute_input": "2023-03-13T20:55:49.876627Z",
          "iopub.status.busy": "2023-03-13T20:55:49.876191Z",
          "iopub.status.idle": "2023-03-13T20:55:50.095926Z",
          "shell.execute_reply": "2023-03-13T20:55:50.094920Z",
          "shell.execute_reply.started": "2023-03-13T20:55:49.876586Z"
        },
        "id": "Hb99w2fDNJrk",
        "trusted": true
      },
      "outputs": [],
      "source": [
        "import random\n",
        "img = train_set[random.randint(0, len(train_set))]['Image']\n",
        "plt.imshow(img.permute(1,2,0))\n",
        "plt.show()"
      ]
    },
    {
      "cell_type": "code",
      "execution_count": null,
      "metadata": {
        "execution": {
          "iopub.execute_input": "2023-03-13T20:55:50.098179Z",
          "iopub.status.busy": "2023-03-13T20:55:50.097767Z",
          "iopub.status.idle": "2023-03-13T20:55:50.111420Z",
          "shell.execute_reply": "2023-03-13T20:55:50.110105Z",
          "shell.execute_reply.started": "2023-03-13T20:55:50.098139Z"
        },
        "id": "fPXQ9qmoCKZD",
        "trusted": true
      },
      "outputs": [],
      "source": [
        "conv_layers = [model.conv1, model.conv2, model.conv3, model.conv4, model.conv5, model.conv6]\n",
        "\n",
        "# Pass `img` thorough the layers and save the results for each layer in `output`.\n",
        "##############################\n",
        "# Your code goes here (5 points)\n",
        "outputs = []\n",
        "names = []\n",
        "image = img.to(device)\n",
        "for layer in conv_layers:\n",
        "    image = layer(image)\n",
        "    outputs.append(image)\n",
        "    names.append(str(layer))\n",
        "##############################\n",
        "len(outputs)"
      ]
    },
    {
      "cell_type": "code",
      "source": [
        "# Visualize the output for the first 16 filters of each layer.\n",
        "##############################\n",
        "# Your code goes here (5 points)\n",
        "\n",
        "for num in range(len(outputs)):\n",
        "  print(f\"the first 16 filters of layer {num} : {conv_layers[num]}\")\n",
        "  plt.figure(figsize=(15, 15))\n",
        "  for i in range(16):\n",
        "    plt.subplot(4, 4, i+1) \n",
        "    plt.imshow(outputs[num][i].detach().cpu().numpy(), cmap='viridis')\n",
        "    plt.axis('off')\n",
        "  plt.show()\n"
      ],
      "metadata": {
        "id": "TuYMgqHcviV9"
      },
      "execution_count": null,
      "outputs": []
    },
    {
      "cell_type": "markdown",
      "metadata": {
        "id": "OMsGoZCxhbwS"
      },
      "source": [
        "**Answer the following question (5 points):**\n",
        "- Which one of the feature maps you visualized do you find helpful for the task? Which ones you don't find helpful?\n",
        "\n",
        "In the early feature maps, the image can be recognized with higher accuracy, this increases the possibility of overfitting, in the following, the accuracy of the image decreases, and things such as edges, contrast, and the overall shape of the image are seen as distinguishable features, which It is very suitable for this task.\n",
        "\n",
        "\n"
      ]
    },
    {
      "cell_type": "code",
      "execution_count": null,
      "metadata": {
        "execution": {
          "iopub.execute_input": "2023-03-13T20:55:50.113890Z",
          "iopub.status.busy": "2023-03-13T20:55:50.113168Z",
          "iopub.status.idle": "2023-03-13T20:55:54.102008Z",
          "shell.execute_reply": "2023-03-13T20:55:54.100913Z",
          "shell.execute_reply.started": "2023-03-13T20:55:50.113853Z"
        },
        "id": "sKUv2y4CRlqa",
        "trusted": true
      },
      "outputs": [],
      "source": [
        "\n",
        "processed = []\n",
        "for featureMap in outputs:\n",
        "    featureMap = featureMap.squeeze(0)\n",
        "    grayScale = torch.sum(featureMap,0)\n",
        "    grayScale = grayScale / featureMap.shape[0]\n",
        "    processed.append(grayScale.data.cpu().numpy())\n",
        "\n",
        "\n",
        "fig = plt.figure(figsize=(30, 50))\n",
        "for i in range(len(processed)):\n",
        "    a = fig.add_subplot(5, 4, i+1)\n",
        "    imgplot = plt.imshow(processed[i])\n",
        "    a.axis(\"off\")\n",
        "    a.set_title(names[i].split('(')[0], fontsize=30)\n",
        "plt.savefig(str('feature_maps.jpg'), bbox_inches='tight')\n"
      ]
    }
  ],
  "metadata": {
    "accelerator": "GPU",
    "celltoolbar": "Tags",
    "colab": {
      "provenance": []
    },
    "gpuClass": "standard",
    "kernelspec": {
      "display_name": "Python 3",
      "language": "python",
      "name": "python3"
    },
    "language_info": {
      "codemirror_mode": {
        "name": "ipython",
        "version": 3
      },
      "file_extension": ".py",
      "mimetype": "text/x-python",
      "name": "python",
      "nbconvert_exporter": "python",
      "pygments_lexer": "ipython3",
      "version": "3.7.12"
    }
  },
  "nbformat": 4,
  "nbformat_minor": 0
}
